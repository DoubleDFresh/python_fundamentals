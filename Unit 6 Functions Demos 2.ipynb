{
 "cells": [
  {
   "cell_type": "markdown",
   "metadata": {
    "slideshow": {
     "slide_type": "skip"
    }
   },
   "source": [
    "## Demo - decorator functions\n"
   ]
  },
  {
   "cell_type": "code",
   "execution_count": 9,
   "metadata": {
    "slideshow": {
     "slide_type": "slide"
    }
   },
   "outputs": [
    {
     "name": "stdout",
     "output_type": "stream",
     "text": [
      "<b>TEST</b>\n"
     ]
    }
   ],
   "source": [
    "#>>>>\n",
    "def bold(string):\n",
    "    return f\"<b>{string}</b>\"\n",
    "\n",
    "def strip_upper(field):\n",
    "    return field.strip().upper()\n",
    "\n",
    "test_string = strip_upper(\"   test   \")\n",
    "bold_test = bold(test_string)\n",
    "print(bold_test)"
   ]
  },
  {
   "cell_type": "code",
   "execution_count": 5,
   "metadata": {
    "slideshow": {
     "slide_type": "slide"
    }
   },
   "outputs": [
    {
     "name": "stdout",
     "output_type": "stream",
     "text": [
      "<function strip_upper at 0x7fc4ee6db3a0>\n",
      "<function bold.<locals>.wrapper at 0x7fc4ee6db5e0>\n",
      "wrapper\n",
      "<b>TEST</b>\n"
     ]
    }
   ],
   "source": [
    "#>>>>\n",
    "def bold(func):\n",
    "    def wrapper(param):\n",
    "        result = func(param)\n",
    "        return f\"<b>{result}</b>\"\n",
    "    return wrapper\n",
    "\n",
    "print(strip_upper)\n",
    "\n",
    "strip_upper2 = bold(strip_upper)\n",
    "print(strip_upper2)\n",
    "print(strip_upper2.__name__)\n",
    "\n",
    "print(strip_upper2(\"   test   \"))\n"
   ]
  },
  {
   "cell_type": "code",
   "execution_count": 10,
   "metadata": {
    "slideshow": {
     "slide_type": "slide"
    }
   },
   "outputs": [
    {
     "name": "stdout",
     "output_type": "stream",
     "text": [
      "<function bold.<locals>.wrapper at 0x7fc4ee6db430>\n",
      "wrapper\n",
      "<b>TEST</b>\n"
     ]
    }
   ],
   "source": [
    "def bold(func):\n",
    "    def wrapper(param):\n",
    "        result = func(param)\n",
    "        return f\"<b>{result}</b>\"\n",
    "    return wrapper\n",
    "\n",
    "#>>>>\n",
    "@bold\n",
    "def strip_upper(field):\n",
    "    return field.strip().upper()\n",
    "\n",
    "print(strip_upper)\n",
    "\n",
    "print(strip_upper.__name__)\n",
    "print(strip_upper(\"   test   \"))\n"
   ]
  },
  {
   "cell_type": "code",
   "execution_count": 11,
   "metadata": {
    "slideshow": {
     "slide_type": "slide"
    }
   },
   "outputs": [
    {
     "name": "stdout",
     "output_type": "stream",
     "text": [
      "<function strip_upper at 0x7fc4ee6db820>\n",
      "strip_upper\n",
      "<b>TEST</b>\n"
     ]
    }
   ],
   "source": [
    "#>>>>\n",
    "from functools import wraps\n",
    "\n",
    "def bold(func):\n",
    "    @wraps(func)\n",
    "    def wrapper(param):\n",
    "        result = func(param)\n",
    "        return f\"<b>{result}</b>\"\n",
    "    return wrapper\n",
    "\n",
    "@bold\n",
    "def strip_upper(field):\n",
    "    return field.strip().upper()\n",
    "\n",
    "print(strip_upper)\n",
    "\n",
    "print(strip_upper.__name__)\n",
    "print(strip_upper(\"   test   \"))\n"
   ]
  }
 ],
 "metadata": {
  "celltoolbar": "Slideshow",
  "kernelspec": {
   "display_name": "Python 3 (ipykernel)",
   "language": "python",
   "name": "python3"
  },
  "language_info": {
   "codemirror_mode": {
    "name": "ipython",
    "version": 3
   },
   "file_extension": ".py",
   "mimetype": "text/x-python",
   "name": "python",
   "nbconvert_exporter": "python",
   "pygments_lexer": "ipython3",
   "version": "3.9.7"
  },
  "livereveal": {
   "scroll": true,
   "start_slideshow_at": "selected",
   "theme": "white",
   "transition": "none"
  },
  "toc": {
   "base_numbering": 1,
   "nav_menu": {},
   "number_sections": false,
   "sideBar": true,
   "skip_h1_title": false,
   "title_cell": "Table of Contents",
   "title_sidebar": "Contents",
   "toc_cell": false,
   "toc_position": {},
   "toc_section_display": true,
   "toc_window_display": false
  }
 },
 "nbformat": 4,
 "nbformat_minor": 4
}
